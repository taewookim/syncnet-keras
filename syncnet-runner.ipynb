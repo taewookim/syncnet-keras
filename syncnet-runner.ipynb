{
 "cells": [
  {
   "cell_type": "markdown",
   "metadata": {},
   "source": [
    "# Syncnet Implementation\n",
    "\n",
    "https://github.com/voletiv/syncnet-in-keras/"
   ]
  },
  {
   "cell_type": "code",
   "execution_count": 30,
   "metadata": {
    "collapsed": true
   },
   "outputs": [],
   "source": [
    "import cv2, os, sys, numpy as np\n",
    "import scipy.io.wavfile as wav\n",
    "from PIL import Image\n",
    "import numpy as np\n",
    "import speechpy\n",
    "import dlib"
   ]
  },
  {
   "cell_type": "markdown",
   "metadata": {},
   "source": [
    "Mouth detection from https://github.com/voletiv/lipreading-in-the-wild-experiments/tree/master/process-lrw"
   ]
  },
  {
   "cell_type": "code",
   "execution_count": 11,
   "metadata": {},
   "outputs": [
    {
     "name": "stderr",
     "output_type": "stream",
     "text": [
      "Using TensorFlow backend.\n"
     ]
    }
   ],
   "source": [
    "\n",
    "from process_lrw_functions import detect_mouth_in_frame, extract_audio_from_mp4\n",
    "from syncnet_functions import load_pretrained_syncnet_model"
   ]
  },
  {
   "cell_type": "code",
   "execution_count": 20,
   "metadata": {
    "collapsed": true
   },
   "outputs": [],
   "source": [
    "def get_video_input(video):\n",
    "\n",
    "\tdetector = dlib.get_frontal_face_detector()\n",
    "\tpredictor = dlib.shape_predictor(\"shape_predictor_68_face_landmarks.dat\")\n",
    "\n",
    "\tcap \t\t= cv2.VideoCapture(video)\n",
    "\tframeFPS \t= int(cap.get(cv2.CAP_PROP_FPS))\n",
    "\tframeCount \t= int(cap.get(cv2.CAP_PROP_FRAME_COUNT))\n",
    "\tframeWidth \t= int(cap.get(cv2.CAP_PROP_FRAME_WIDTH))\n",
    "\tframeHeight = int(cap.get(cv2.CAP_PROP_FRAME_HEIGHT))\n",
    "\n",
    "\t# print(\"FPS: {}\".format(frameFPS))\n",
    "\t# print(\"Frames: {}\".format(frameCount))\n",
    "\t# print(\"Width: {}\".format(frameWidth))\n",
    "\t# print(\"Height: {}\".format(frameHeight))\n",
    "\t\n",
    "\tface = dlib.rectangle(30, 30, 220, 220)\n",
    "\t\n",
    "\tlip_model_input = []\n",
    "\n",
    "\t\n",
    "\twhile(cap.isOpened()):\n",
    "\n",
    "\t\t# If frames are extracted from video, all frames are read\n",
    "\t\tframes = []\n",
    "\t\tfor i in range(5):\n",
    "\t\t\t_, frame \t= cap.read()\n",
    "\t\t\tif(frame is None):\n",
    "\t\t\t\tbreak\n",
    "\n",
    "\t\t\tmouth, face = detect_mouth_in_frame(\n",
    "\t\t\t\tframe, detector, predictor,\n",
    "\t\t\t\tprevFace=face,\n",
    "\t\t\t\tverbose=False)\n",
    "\n",
    "\t\t\tmouth = cv2.cvtColor(mouth, cv2.COLOR_BGR2GRAY) # convert to grayscale\n",
    "\t\t\tmouth = cv2.resize( mouth, (112,112))\n",
    "\t\t\t# mouth = mouth[:, :,0] \t# drop the RGB channel\n",
    "\t\t\tframes.append(mouth)\n",
    "\n",
    "\t\t\n",
    "\t\tif(len(frames)==0):\n",
    "\t\t\tbreak\n",
    "\n",
    "\t\tstacked = np.stack(frames ,axis=2)\t#syncnet requires (112,112,5)\n",
    "\t\t# input(stacked.shape)\n",
    "\t\tlip_model_input.append(stacked)\n",
    "\t\n",
    "\treturn np.asarray(lip_model_input)"
   ]
  },
  {
   "cell_type": "markdown",
   "metadata": {},
   "source": [
    "# MFCC code thanks to michiyosony \n",
    "\n",
    "https://github.com/voletiv/syncnet-in-keras/issues/1#issuecomment-380149724\n",
    "\n"
   ]
  },
  {
   "cell_type": "code",
   "execution_count": 21,
   "metadata": {
    "collapsed": true
   },
   "outputs": [],
   "source": [
    "EACH_MFCC_OUTPUT_FRAME_SIZE = 20\n",
    "\n",
    "def extract_mfcc_series(wav_file, target_dir=None):\n",
    "\t(rate, sig) = wav.read(wav_file)\n",
    "\n",
    "\ttry:\n",
    "\t\tmfcc_feat = speechpy.feature.mfcc(sig, sampling_frequency=rate, frame_length=0.010, frame_stride=0.01)\n",
    "\texcept IndexError:\n",
    "\t\tprint(\"index error occurred while extracting mfcc\")\n",
    "\t\treturn\n",
    "\tprint('sample_rate: {}, mfcc_feat length: {}, mfcc_feat[0] length: {}'.format(rate, len(mfcc_feat), len(mfcc_feat[0])))\n",
    "\tnum_output = len(mfcc_feat) / EACH_MFCC_OUTPUT_FRAME_SIZE\n",
    "\tnum_output += 1 if (len(mfcc_feat) % EACH_MFCC_OUTPUT_FRAME_SIZE > 0) else 0\n",
    "\t\n",
    "\t# print(mfcc_feat.shape)\n",
    "\t# input(int(num_output))\n",
    "\timages = []\n",
    "\n",
    "\tfor index in range(int(num_output)):\n",
    "\t\timg = Image.new('RGB', (20, 13), \"black\")\n",
    "\t\tpixels = img.load()\n",
    "\t\tfor i in range(img.size[0]):\n",
    "\t\t\tfor j in range(img.size[1]):\n",
    "\t\t\t\tframe_index = index * EACH_MFCC_OUTPUT_FRAME_SIZE + i\n",
    "\t\t\t\t# print(frame_index)\n",
    "\t\t\t\ttry:\n",
    "\t\t\t\t\tif mfcc_feat[frame_index][j] < 0:\n",
    "\t\t\t\t\t\tred_amount = min(255, 255 * (mfcc_feat[frame_index][j] / -20))\n",
    "\t\t\t\t\t\tpixels[i, j] = (int(red_amount), 0, 0)\n",
    "\t\t\t\t\telif (mfcc_feat[frame_index][j] > 0):\n",
    "\t\t\t\t\t\tblue_amount = min(255, 255 * (mfcc_feat[frame_index][j] / 20))\n",
    "\t\t\t\t\t\tpixels[i, j] = (0, 0, int(blue_amount))\n",
    "\t\t\t\texcept IndexError:\n",
    "\t\t\t\t\tprint(\"index error occurred while extracting mfcc @ \" + str(frame_index) + \",\" + str(j))\n",
    "\t\t\t\t\tbreak\n",
    "\t\t# img.save(\"{}/mfcc_{:03d}.png\".format(target_dir, index), 'PNG')\n",
    "\t\t\n",
    "\t\timg_to_np = np.array(img)\n",
    "\t\t# img_to_np = img_to_np[:,:,0]\n",
    "        # print(img_to_np.shape)\n",
    "\n",
    "\t\timages.append(img_to_np)\n",
    "\n",
    "\treturn np.asarray(images)\n",
    "\n",
    "\n",
    "def get_audio_input(video):\n",
    "\n",
    "\taudio_out = \"{}.wav\".format(video)\n",
    "\tcmd=\"ffmpeg -y -loglevel panic -i {} -acodec pcm_s16le -ac 1 -ar 16000 {}\".format(video, audio_out)\n",
    "\tos.system(cmd)\n",
    "\t\n",
    "\treturn extract_mfcc_series(audio_out)\n"
   ]
  },
  {
   "cell_type": "markdown",
   "metadata": {},
   "source": [
    "Code below - For some reason, i get this error on different videos\n",
    "\n",
    "> ValueError: could not broadcast input array from shape (112,112,5) into shape (112,112)"
   ]
  },
  {
   "cell_type": "code",
   "execution_count": 27,
   "metadata": {},
   "outputs": [
    {
     "name": "stdout",
     "output_type": "stream",
     "text": [
      "(23, 112, 112, 5)\n"
     ]
    }
   ],
   "source": [
    "lip_input = get_video_input(\"test.mp4\")\n",
    "print(lip_input.shape)"
   ]
  },
  {
   "cell_type": "code",
   "execution_count": 28,
   "metadata": {},
   "outputs": [
    {
     "name": "stdout",
     "output_type": "stream",
     "text": [
      "sample_rate: 16000, mfcc_feat length: 768, mfcc_feat[0] length: 13\n",
      "index error occurred while extracting mfcc @ 768,0\n",
      "index error occurred while extracting mfcc @ 769,0\n",
      "index error occurred while extracting mfcc @ 770,0\n",
      "index error occurred while extracting mfcc @ 771,0\n",
      "index error occurred while extracting mfcc @ 772,0\n",
      "index error occurred while extracting mfcc @ 773,0\n",
      "index error occurred while extracting mfcc @ 774,0\n",
      "index error occurred while extracting mfcc @ 775,0\n",
      "index error occurred while extracting mfcc @ 776,0\n",
      "index error occurred while extracting mfcc @ 777,0\n",
      "index error occurred while extracting mfcc @ 778,0\n",
      "index error occurred while extracting mfcc @ 779,0\n",
      "(39, 13, 20, 3)\n"
     ]
    }
   ],
   "source": [
    "\n",
    "\n",
    "audio_input = get_audio_input(\"test.mp4\")\n",
    "print(audio_input.shape)\n",
    "\n"
   ]
  },
  {
   "cell_type": "code",
   "execution_count": 29,
   "metadata": {},
   "outputs": [
    {
     "ename": "ValueError",
     "evalue": "Error when checking : expected conv1_audio_input to have shape (13, 20, 1) but got array with shape (13, 20, 3)",
     "output_type": "error",
     "traceback": [
      "\u001b[1;31m---------------------------------------------------------------------------\u001b[0m",
      "\u001b[1;31mValueError\u001b[0m                                Traceback (most recent call last)",
      "\u001b[1;32m<ipython-input-29-8194a14a480e>\u001b[0m in \u001b[0;36m<module>\u001b[1;34m()\u001b[0m\n\u001b[0;32m      8\u001b[0m \u001b[1;31m# input(\">\")\u001b[0m\u001b[1;33m\u001b[0m\u001b[1;33m\u001b[0m\u001b[0m\n\u001b[0;32m      9\u001b[0m \u001b[1;33m\u001b[0m\u001b[0m\n\u001b[1;32m---> 10\u001b[1;33m \u001b[0maudio_prediction\u001b[0m \u001b[1;33m=\u001b[0m \u001b[0msyncnet_audio_model\u001b[0m\u001b[1;33m.\u001b[0m\u001b[0mpredict\u001b[0m\u001b[1;33m(\u001b[0m\u001b[0maudio_input\u001b[0m\u001b[1;33m)\u001b[0m\u001b[1;33m\u001b[0m\u001b[0m\n\u001b[0m\u001b[0;32m     11\u001b[0m \u001b[0mlip_prediction\u001b[0m \u001b[1;33m=\u001b[0m \u001b[0msyncnet_lip_model\u001b[0m\u001b[1;33m.\u001b[0m\u001b[0mpredict\u001b[0m\u001b[1;33m(\u001b[0m\u001b[0mlip_input\u001b[0m\u001b[1;33m)\u001b[0m\u001b[1;33m\u001b[0m\u001b[0m\n\u001b[0;32m     12\u001b[0m \u001b[1;33m\u001b[0m\u001b[0m\n",
      "\u001b[1;32mC:\\Anaconda3\\lib\\site-packages\\keras\\models.py\u001b[0m in \u001b[0;36mpredict\u001b[1;34m(self, x, batch_size, verbose, steps)\u001b[0m\n\u001b[0;32m   1023\u001b[0m             \u001b[0mself\u001b[0m\u001b[1;33m.\u001b[0m\u001b[0mbuild\u001b[0m\u001b[1;33m(\u001b[0m\u001b[1;33m)\u001b[0m\u001b[1;33m\u001b[0m\u001b[0m\n\u001b[0;32m   1024\u001b[0m         return self.model.predict(x, batch_size=batch_size, verbose=verbose,\n\u001b[1;32m-> 1025\u001b[1;33m                                   steps=steps)\n\u001b[0m\u001b[0;32m   1026\u001b[0m \u001b[1;33m\u001b[0m\u001b[0m\n\u001b[0;32m   1027\u001b[0m     \u001b[1;32mdef\u001b[0m \u001b[0mpredict_on_batch\u001b[0m\u001b[1;33m(\u001b[0m\u001b[0mself\u001b[0m\u001b[1;33m,\u001b[0m \u001b[0mx\u001b[0m\u001b[1;33m)\u001b[0m\u001b[1;33m:\u001b[0m\u001b[1;33m\u001b[0m\u001b[0m\n",
      "\u001b[1;32mC:\\Anaconda3\\lib\\site-packages\\keras\\engine\\training.py\u001b[0m in \u001b[0;36mpredict\u001b[1;34m(self, x, batch_size, verbose, steps)\u001b[0m\n\u001b[0;32m   1822\u001b[0m         x = _standardize_input_data(x, self._feed_input_names,\n\u001b[0;32m   1823\u001b[0m                                     \u001b[0mself\u001b[0m\u001b[1;33m.\u001b[0m\u001b[0m_feed_input_shapes\u001b[0m\u001b[1;33m,\u001b[0m\u001b[1;33m\u001b[0m\u001b[0m\n\u001b[1;32m-> 1824\u001b[1;33m                                     check_batch_axis=False)\n\u001b[0m\u001b[0;32m   1825\u001b[0m         \u001b[1;32mif\u001b[0m \u001b[0mself\u001b[0m\u001b[1;33m.\u001b[0m\u001b[0mstateful\u001b[0m\u001b[1;33m:\u001b[0m\u001b[1;33m\u001b[0m\u001b[0m\n\u001b[0;32m   1826\u001b[0m             \u001b[1;32mif\u001b[0m \u001b[0mx\u001b[0m\u001b[1;33m[\u001b[0m\u001b[1;36m0\u001b[0m\u001b[1;33m]\u001b[0m\u001b[1;33m.\u001b[0m\u001b[0mshape\u001b[0m\u001b[1;33m[\u001b[0m\u001b[1;36m0\u001b[0m\u001b[1;33m]\u001b[0m \u001b[1;33m>\u001b[0m \u001b[0mbatch_size\u001b[0m \u001b[1;32mand\u001b[0m \u001b[0mx\u001b[0m\u001b[1;33m[\u001b[0m\u001b[1;36m0\u001b[0m\u001b[1;33m]\u001b[0m\u001b[1;33m.\u001b[0m\u001b[0mshape\u001b[0m\u001b[1;33m[\u001b[0m\u001b[1;36m0\u001b[0m\u001b[1;33m]\u001b[0m \u001b[1;33m%\u001b[0m \u001b[0mbatch_size\u001b[0m \u001b[1;33m!=\u001b[0m \u001b[1;36m0\u001b[0m\u001b[1;33m:\u001b[0m\u001b[1;33m\u001b[0m\u001b[0m\n",
      "\u001b[1;32mC:\\Anaconda3\\lib\\site-packages\\keras\\engine\\training.py\u001b[0m in \u001b[0;36m_standardize_input_data\u001b[1;34m(data, names, shapes, check_batch_axis, exception_prefix)\u001b[0m\n\u001b[0;32m    121\u001b[0m                             \u001b[1;34m': expected '\u001b[0m \u001b[1;33m+\u001b[0m \u001b[0mnames\u001b[0m\u001b[1;33m[\u001b[0m\u001b[0mi\u001b[0m\u001b[1;33m]\u001b[0m \u001b[1;33m+\u001b[0m \u001b[1;34m' to have shape '\u001b[0m \u001b[1;33m+\u001b[0m\u001b[1;33m\u001b[0m\u001b[0m\n\u001b[0;32m    122\u001b[0m                             \u001b[0mstr\u001b[0m\u001b[1;33m(\u001b[0m\u001b[0mshape\u001b[0m\u001b[1;33m)\u001b[0m \u001b[1;33m+\u001b[0m \u001b[1;34m' but got array with shape '\u001b[0m \u001b[1;33m+\u001b[0m\u001b[1;33m\u001b[0m\u001b[0m\n\u001b[1;32m--> 123\u001b[1;33m                             str(data_shape))\n\u001b[0m\u001b[0;32m    124\u001b[0m     \u001b[1;32mreturn\u001b[0m \u001b[0mdata\u001b[0m\u001b[1;33m\u001b[0m\u001b[0m\n\u001b[0;32m    125\u001b[0m \u001b[1;33m\u001b[0m\u001b[0m\n",
      "\u001b[1;31mValueError\u001b[0m: Error when checking : expected conv1_audio_input to have shape (13, 20, 1) but got array with shape (13, 20, 3)"
     ]
    }
   ],
   "source": [
    "version = 'v4'\n",
    "mode = 'both'\n",
    "syncnet_audio_model, syncnet_lip_model = load_pretrained_syncnet_model(version=version, mode=mode, verbose=False)\n",
    "\n",
    "# print(syncnet_audio_model.summary())\n",
    "# input(\">\")\n",
    "# print(syncnet_lip_model.summary())\n",
    "# input(\">\")\n",
    "\n",
    "audio_prediction = syncnet_audio_model.predict(audio_input)\n",
    "lip_prediction = syncnet_lip_model.predict(lip_input)\n",
    "\n",
    "print(audio_prediction)\n",
    "input(\">\")\n",
    "print(lip_prediction)"
   ]
  },
  {
   "cell_type": "code",
   "execution_count": null,
   "metadata": {
    "collapsed": true
   },
   "outputs": [],
   "source": []
  }
 ],
 "metadata": {
  "kernelspec": {
   "display_name": "Python 3",
   "language": "python",
   "name": "python3"
  },
  "language_info": {
   "codemirror_mode": {
    "name": "ipython",
    "version": 3
   },
   "file_extension": ".py",
   "mimetype": "text/x-python",
   "name": "python",
   "nbconvert_exporter": "python",
   "pygments_lexer": "ipython3",
   "version": "3.6.3"
  }
 },
 "nbformat": 4,
 "nbformat_minor": 2
}
