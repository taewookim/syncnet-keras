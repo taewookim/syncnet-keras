{
 "cells": [
  {
   "cell_type": "markdown",
   "metadata": {},
   "source": [
    "# Syncnet Implementation\n",
    "\n",
    "https://github.com/voletiv/syncnet-in-keras/"
   ]
  },
  {
   "cell_type": "code",
   "execution_count": 63,
   "metadata": {
    "collapsed": true
   },
   "outputs": [],
   "source": [
    "import cv2, os, sys, numpy as np\n",
    "import scipy.io.wavfile as wav\n",
    "from PIL import Image\n",
    "import numpy as np\n",
    "import speechpy\n",
    "import dlib\n",
    "import tqdm"
   ]
  },
  {
   "cell_type": "markdown",
   "metadata": {},
   "source": [
    "Mouth detection from https://github.com/voletiv/lipreading-in-the-wild-experiments/tree/master/process-lrw\n"
   ]
  },
  {
   "cell_type": "code",
   "execution_count": 64,
   "metadata": {},
   "outputs": [],
   "source": [
    "from process_lrw_functions import detect_mouth_in_frame, extract_audio_from_mp4\n",
    "from syncnet_functions import load_pretrained_syncnet_model"
   ]
  },
  {
   "cell_type": "code",
   "execution_count": 65,
   "metadata": {
    "collapsed": true
   },
   "outputs": [],
   "source": [
    "def get_video_input(video):\n",
    "\n",
    "    detector = dlib.get_frontal_face_detector()\n",
    "    predictor = dlib.shape_predictor(\"shape_predictor_68_face_landmarks.dat\")\n",
    "\n",
    "    cap         = cv2.VideoCapture(video)\n",
    "    frameFPS    = int(cap.get(cv2.CAP_PROP_FPS))\n",
    "    frameCount  = int(cap.get(cv2.CAP_PROP_FRAME_COUNT))\n",
    "    frameWidth  = int(cap.get(cv2.CAP_PROP_FRAME_WIDTH))\n",
    "    frameHeight = int(cap.get(cv2.CAP_PROP_FRAME_HEIGHT))\n",
    "\n",
    "    print(\"FPS: {}\".format(frameFPS))\n",
    "    print(\"Frames: {}\".format(frameCount))\n",
    "    print(\"Width: {}\".format(frameWidth))\n",
    "    print(\"Height: {}\".format(frameHeight))\n",
    "\n",
    "    face = dlib.rectangle(30, 30, 220, 220)\n",
    "\n",
    "    lip_model_input = []\n",
    "\n",
    "    frame_count = 0\n",
    "\n",
    "    while(cap.isOpened()):\n",
    "\n",
    "        # If frames are extracted from video, all frames are read\n",
    "        frames = []\n",
    "        for i in range(5):\n",
    "        \n",
    "            # print(\"Frame\", frame_count+1, \"of\", frameCount, end=\"\\r\")\n",
    "            _, frame = cap.read()\n",
    "            frame_count += 1\n",
    "            if(frame is None):\n",
    "                break\n",
    "\n",
    "            mouth, face = detect_mouth_in_frame(\n",
    "                frame, detector, predictor,\n",
    "                prevFace=face,\n",
    "                verbose=False)\n",
    "\n",
    "            mouth = cv2.cvtColor(mouth, cv2.COLOR_BGR2GRAY) # convert to grayscale\n",
    "            mouth = cv2.resize( mouth, (112,112))\n",
    "            # mouth = mouth[:, :,0] \t# drop the RGB channel\n",
    "            frames.append(mouth)\n",
    "\n",
    "        if len(frames) == 5:\n",
    "            stacked = np.stack(frames, axis=-1)\t#syncnet requires (112,112,5)\n",
    "            # input(stacked.shape)\n",
    "            lip_model_input.append(stacked)\n",
    "        else:\n",
    "            break\n",
    "\n",
    "    return np.array(lip_model_input)"
   ]
  },
  {
   "cell_type": "markdown",
   "metadata": {},
   "source": [
    "# MFCC code thanks to michiyosony \n",
    "\n",
    "https://github.com/voletiv/syncnet-in-keras/issues/1#issuecomment-380149724\n",
    "\n"
   ]
  },
  {
   "cell_type": "code",
   "execution_count": 66,
   "metadata": {},
   "outputs": [],
   "source": [
    "EACH_MFCC_OUTPUT_FRAME_SIZE = 20\n",
    "\n",
    "def extract_mfcc_series(wav_file, target_dir=None):\n",
    "    (rate, sig) = wav.read(wav_file)\n",
    "    print(\"Sig length: {}\".format(len(sig)))\n",
    "    try:\n",
    "        mfcc_feat = speechpy.feature.mfcc(sig, sampling_frequency=rate, frame_length=0.010, frame_stride=0.01)\n",
    "    except IndexError:\n",
    "        print(\"index error occurred while extracting mfcc\")\n",
    "        return\n",
    "    print('sample_rate: {}, mfcc_feat length: {}, mfcc_feat[0] length: {}'.format(rate, len(mfcc_feat), len(mfcc_feat[0])))\n",
    "    num_output = len(mfcc_feat) // EACH_MFCC_OUTPUT_FRAME_SIZE\n",
    "    \n",
    "    print(mfcc_feat.shape)\n",
    "    print(int(num_output))\n",
    "    images = []\n",
    "\n",
    "    for index in tqdm.tqdm(range(num_output)):\n",
    "        img = Image.new('RGB', (20, 13), \"black\")\n",
    "        pixels = img.load()\n",
    "        for i in range(img.size[0]):\n",
    "            for j in range(img.size[1]):\n",
    "                frame_index = index * EACH_MFCC_OUTPUT_FRAME_SIZE + i\n",
    "                # print(frame_index)\n",
    "                try:\n",
    "                    if mfcc_feat[frame_index][j] < 0:\n",
    "                        red_amount = min(255, 255 * (mfcc_feat[frame_index][j] / -20))\n",
    "                        pixels[i, j] = (int(red_amount), 0, 0)\n",
    "                    elif (mfcc_feat[frame_index][j] > 0):\n",
    "                        blue_amount = min(255, 255 * (mfcc_feat[frame_index][j] / 20))\n",
    "                        pixels[i, j] = (0, 0, int(blue_amount))\n",
    "                except IndexError:\n",
    "                    print(\"index error occurred while extracting mfcc @ \" + str(frame_index) + \",\" + str(j))\n",
    "                    break\n",
    "        # img.save(\"{}/mfcc_{:03d}.png\".format(target_dir, index), 'PNG')\n",
    "        img_to_np = np.array(img)\n",
    "\n",
    "        # Convert to grayscale\n",
    "        gray_image = cv2.cvtColor(img_to_np, cv2.COLOR_RGB2GRAY)\n",
    "        \n",
    "        # Expand an axis\n",
    "        gray_image_exp = np.expand_dims(gray_image, axis=-1)\n",
    "\n",
    "        images.append(gray_image_exp)\n",
    "\n",
    "    return np.asarray(images)\n",
    "\n",
    "\n",
    "def get_audio_input(video):\n",
    "    audio_out = \"{}.wav\".format(video)\n",
    "    cmd=\"ffmpeg -y -loglevel panic -i {} -acodec pcm_s16le -ac 1 -ar 16000 {}\".format(video, audio_out)\n",
    "    os.system(cmd)\n",
    "    return extract_mfcc_series(audio_out)"
   ]
  },
  {
   "cell_type": "markdown",
   "metadata": {},
   "source": [
    "# Getting the inputs to the models"
   ]
  },
  {
   "cell_type": "markdown",
   "metadata": {},
   "source": [
    "**Make sure video is of 25fps!**\n",
    "If not, use the following ffmpeg command to convert fps:\n",
    "\n",
    "```\n",
    "ffmpeg -i video.mp4 -r 25 -y video_at_25_fps\n",
    ".mp4\n",
    "```"
   ]
  },
  {
   "cell_type": "code",
   "execution_count": 113,
   "metadata": {
    "collapsed": true
   },
   "outputs": [],
   "source": [
    "def convert_video_to_25_fps(video):\n",
    "    cmd=\"ffmpeg -i {} -r 25 -y tmp.mp4\".format(video)\n",
    "    os.system(cmd)\n",
    "    cmd=\"mv tmp.mp4 {}\".format(video)\n",
    "    os.system(cmd)\n",
    "    return"
   ]
  },
  {
   "cell_type": "code",
   "execution_count": 123,
   "metadata": {
    "collapsed": true
   },
   "outputs": [],
   "source": [
    "video_to_test = \"test/unsynced.mp4\""
   ]
  },
  {
   "cell_type": "code",
   "execution_count": 124,
   "metadata": {
    "collapsed": true
   },
   "outputs": [],
   "source": [
    "convert_video_to_25_fps(video_to_test)"
   ]
  },
  {
   "cell_type": "code",
   "execution_count": 125,
   "metadata": {},
   "outputs": [
    {
     "name": "stdout",
     "output_type": "stream",
     "text": [
      "FPS: 25\n",
      "Frames: 184\n",
      "Width: 320\n",
      "Height: 240\n",
      "(36, 112, 112, 5)\n"
     ]
    }
   ],
   "source": [
    "lip_input = get_video_input(video_to_test)\n",
    "print(lip_input.shape)"
   ]
  },
  {
   "cell_type": "code",
   "execution_count": 126,
   "metadata": {
    "scrolled": false
   },
   "outputs": [
    {
     "name": "stdout",
     "output_type": "stream",
     "text": [
      "Sig length: 117077\n",
      "sample_rate: 16000, mfcc_feat length: 731, mfcc_feat[0] length: 13\n",
      "(731, 13)\n",
      "36\n"
     ]
    },
    {
     "name": "stderr",
     "output_type": "stream",
     "text": [
      "100%|██████████| 36/36 [00:00<00:00, 946.64it/s]\n"
     ]
    },
    {
     "name": "stdout",
     "output_type": "stream",
     "text": [
      "(36, 13, 20, 1)\n"
     ]
    }
   ],
   "source": [
    "audio_input = get_audio_input(video_to_test)\n",
    "print(audio_input.shape)"
   ]
  },
  {
   "cell_type": "code",
   "execution_count": 118,
   "metadata": {
    "collapsed": true
   },
   "outputs": [],
   "source": [
    "version = 'v4'\n",
    "mode = 'both'\n",
    "syncnet_audio_model, syncnet_lip_model = load_pretrained_syncnet_model(version=version, mode=mode, verbose=False)"
   ]
  },
  {
   "cell_type": "code",
   "execution_count": null,
   "metadata": {
    "collapsed": true
   },
   "outputs": [],
   "source": [
    "print(syncnet_audio_model.summary())"
   ]
  },
  {
   "cell_type": "code",
   "execution_count": null,
   "metadata": {
    "collapsed": true
   },
   "outputs": [],
   "source": [
    "print(syncnet_lip_model.summary())"
   ]
  },
  {
   "cell_type": "markdown",
   "metadata": {},
   "source": [
    "# Calculate embedding Euclidian distance to see if video / audio is synced\n",
    "\n",
    "1. Pass the audio frame through the audio model to get its encoding (a 128-dimensional feature), pass the video frame through the lip model to get its encoding (a 128-dimensional features)\n",
    "\n",
    "2. Check the euclidean distance between the audio encoding and the video encoding.\n",
    "\n",
    "3. If the distance is greater than a threshold (say, 0.6), then it is said the audio and video are not in sync."
   ]
  },
  {
   "cell_type": "code",
   "execution_count": 127,
   "metadata": {},
   "outputs": [
    {
     "name": "stdout",
     "output_type": "stream",
     "text": [
      "(36, 128)\n"
     ]
    }
   ],
   "source": [
    "audio_embeddings = syncnet_audio_model.predict(audio_input)\n",
    "print(audio_embeddings.shape)"
   ]
  },
  {
   "cell_type": "code",
   "execution_count": 128,
   "metadata": {},
   "outputs": [
    {
     "name": "stdout",
     "output_type": "stream",
     "text": [
      "(36, 128)\n"
     ]
    }
   ],
   "source": [
    "lip_embeddings = syncnet_lip_model.predict(lip_input)\n",
    "print(lip_embeddings.shape)"
   ]
  },
  {
   "cell_type": "code",
   "execution_count": 129,
   "metadata": {},
   "outputs": [],
   "source": [
    "def euclidian_distance(np_data_1, np_data_2): \n",
    "    dist = np.linalg.norm(np_data_1-np_data_2)\n",
    "    return dist"
   ]
  },
  {
   "cell_type": "code",
   "execution_count": 130,
   "metadata": {
    "scrolled": true
   },
   "outputs": [],
   "source": [
    "distance_float = euclidian_distance(audio_embeddings, lip_embeddings)\n"
   ]
  },
  {
   "cell_type": "code",
   "execution_count": 110,
   "metadata": {},
   "outputs": [
    {
     "name": "stdout",
     "output_type": "stream",
     "text": [
      "55.3365\n"
     ]
    }
   ],
   "source": [
    "print(distance_float)"
   ]
  },
  {
   "cell_type": "code",
   "execution_count": 111,
   "metadata": {
    "collapsed": true
   },
   "outputs": [],
   "source": [
    "def euclidian_distance_N(np_data_1, np_data_2): \n",
    "    dist = np.sqrt( np.sum(np.square(np.subtract(np_data_1, np_data_2)), axis=-1) )\n",
    "    return dist"
   ]
  },
  {
   "cell_type": "code",
   "execution_count": 112,
   "metadata": {},
   "outputs": [
    {
     "name": "stdout",
     "output_type": "stream",
     "text": [
      "[ 14.7312603   10.34830475   9.46382904   9.38288784  12.34794044\n",
      "   8.36612606   6.31382036   9.10655499   9.18782806   8.30923367\n",
      "  12.19418621   7.3413868    8.76842499   5.95582867   9.76344299\n",
      "   9.59012699   5.26596785  10.03675079   8.43529987   5.86464643\n",
      "   6.0869956    6.87394238  10.75918579  12.94858932   4.79319859\n",
      "  10.19445896   6.23314524  13.28144073  12.46162987   9.89130306\n",
      "   7.08326292   5.84677649   9.76580238   7.60681677   6.09657145\n",
      "   5.08543587   4.33298397   6.56058168]\n"
     ]
    }
   ],
   "source": [
    "distance_np = euclidian_distance_N(audio_embeddings, lip_embeddings)\n",
    "\n",
    "print(distance_np)"
   ]
  },
  {
   "cell_type": "code",
   "execution_count": null,
   "metadata": {
    "collapsed": true
   },
   "outputs": [],
   "source": []
  },
  {
   "cell_type": "code",
   "execution_count": null,
   "metadata": {
    "collapsed": true
   },
   "outputs": [],
   "source": []
  }
 ],
 "metadata": {
  "kernelspec": {
   "display_name": "Python 3",
   "language": "python",
   "name": "python3"
  },
  "language_info": {
   "codemirror_mode": {
    "name": "ipython",
    "version": 3
   },
   "file_extension": ".py",
   "mimetype": "text/x-python",
   "name": "python",
   "nbconvert_exporter": "python",
   "pygments_lexer": "ipython3",
   "version": "3.6.3"
  }
 },
 "nbformat": 4,
 "nbformat_minor": 2
}
